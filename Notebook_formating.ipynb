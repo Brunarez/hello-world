{
 "cells": [
  {
   "cell_type": "markdown",
   "id": "personal-chosen",
   "metadata": {},
   "source": [
    "# Basic writing and formatting syntax in Jupyter Notebook\n",
    "1 x #\n",
    "## Second Heading\n",
    "2 x #\n",
    "### Third Heading\n",
    "3 x #\n",
    "#### Fourth Heading\n",
    "4 x #\n",
    "##### Fifth Heading\n",
    "5 x #\n",
    "###### Sixth Heading\n",
    "\n"
   ]
  },
  {
   "cell_type": "markdown",
   "id": "right-sheriff",
   "metadata": {},
   "source": [
    "## **Bold**\n",
    "**this is a bold text** I use ** xxx ** with no space\n",
    "<br>\n",
    "or\n",
    "<br>\n",
    "__this is a bold text__ I also can use __ xxx __ two times underline with no space\n",
    "<br>\n",
    "I also use < br > for line break"
   ]
  },
  {
   "cell_type": "markdown",
   "id": "monthly-pontiac",
   "metadata": {},
   "source": [
    "## *Italic*\n",
    "\n",
    "*this is italic text* I use * xxxx * with no space\n",
    "<br>\n",
    "or\n",
    "<br>\n",
    "_this is an italic text_ I also can use _ xx _ one time undeline with no space"
   ]
  },
  {
   "cell_type": "markdown",
   "id": "productive-remains",
   "metadata": {},
   "source": [
    "## ~~Strikethrough~~\n",
    "\n",
    "~~this is maybe a mystake~~ \n",
    "<br> \n",
    "for strikethrough you use ~~ xx ~~ with no space"
   ]
  },
  {
   "cell_type": "markdown",
   "id": "equipped-greeting",
   "metadata": {},
   "source": [
    "## **Bold and _nested italic_**\n",
    "\n",
    "**you can combine both, _bold and italic_ in the same sentence**\n",
    "<br>\n",
    "_and also the **way around**_\n",
    "<br>\n",
    "you just need to ** xx _ xxx_ xxx ** or way around\n",
    "<br>\n",
    "**_hope you understood_** "
   ]
  },
  {
   "cell_type": "markdown",
   "id": "million-mixture",
   "metadata": {},
   "source": [
    "## ***All italic bold here***\n",
    "\n",
    "to combine both together you just need * * * xxxx * * * three times * again with no space ;)\n"
   ]
  },
  {
   "cell_type": "markdown",
   "id": "universal-daisy",
   "metadata": {},
   "source": [
    "## Quoting text\n",
    "### In words of Bruna\n",
    "> keeping trying, hope is the last that die\n",
    "\n"
   ]
  },
  {
   "cell_type": "markdown",
   "id": "incorporate-horizontal",
   "metadata": {},
   "source": [
    "for this you just need to > xxx"
   ]
  },
  {
   "cell_type": "markdown",
   "id": "stretch-effort",
   "metadata": {},
   "source": [
    "## Quoting code\n",
    "I can use `backsticks` to highlight a word in code format \n",
    "<br>\n",
    "this is a backstick `` \n",
    "<br> \n",
    "`for this you do need space`"
   ]
  },
  {
   "cell_type": "markdown",
   "id": "transparent-findings",
   "metadata": {},
   "source": [
    "```\n",
    "I can also use format code for a block of text using 3 x `\n",
    "this can be very useful\n",
    "do not confuse ' ´\n",
    "you need this `\n",
    "```"
   ]
  },
  {
   "cell_type": "markdown",
   "id": "fatty-poetry",
   "metadata": {},
   "source": [
    "There are some cool highlight syntax.\n",
    "Check this link for some more inspirations:\n",
    "<br>\n",
    "https://docs.github.com/en/github/writing-on-github/creating-and-highlighting-code-blocks"
   ]
  },
  {
   "cell_type": "markdown",
   "id": "minute-turtle",
   "metadata": {},
   "source": [
    "## Links\n",
    "\n",
    "the reference for this Notebook is [Gibthub Docs](https://docs.github.com/en/github/writing-on-github/basic-writing-and-formatting-syntax).\n",
    "<br>\n",
    "You can create an inline link by wrapping link text in brackets [ ], and then wrapping the URL in parentheses ( ). You can also use the keyboard shortcut command + k to create a link.\n",
    "you can't see, but there is a link to the website in parentheses. Ah do not forget, no space between brackets and parentheses ;)\n",
    "<br>\n",
    "prety cool\n"
   ]
  },
  {
   "cell_type": "markdown",
   "id": "vital-discrimination",
   "metadata": {},
   "source": [
    "## Lists\n",
    "### Unordered List\n",
    "- Supervised Learning \n",
    "- Unsupervised Learning\n",
    "- Reinforcement Learning\n",
    "\n",
    "you can use - or * \n"
   ]
  },
  {
   "cell_type": "markdown",
   "id": "dental-sandwich",
   "metadata": {},
   "source": [
    "### Ordered List\n",
    "1. Supervised Learning\n",
    "2. Unsupervised Learning\n",
    "3.  Reinforcement Learning\n",
    "    \n",
    "   \n"
   ]
  },
  {
   "cell_type": "markdown",
   "id": "secret-representation",
   "metadata": {},
   "source": [
    "### Nested List\n",
    "1. Machine Learning;\n",
    "   - Spervised Learning\n",
    "     * Nearest Neighbor\n",
    "     * Naive Bayes\n",
    "     * Decision Trees\n",
    "     * Linear Regression\n",
    "     * Support Vector Machines (SVM)\n",
    "     * Neural Networks\n",
    "   - Unsupervised Learning\n",
    "     * k-means clustering, Association Rules\n",
    "     \n"
   ]
  },
  {
   "cell_type": "markdown",
   "id": "advance-methodology",
   "metadata": {},
   "source": [
    "### Task List\n",
    "1. Weekly Learn Objectives:\n",
    "- [ ] two days learn Python \n",
    "- [ ] two days learn Math \n",
    "- [ ] one day Data Science\n",
    "\n",
    "you need a marker character - or * and then [ ] squared bracktes with some space"
   ]
  },
  {
   "cell_type": "markdown",
   "id": "challenging-edgar",
   "metadata": {},
   "source": [
    "### Mention people or teams\n",
    "you can mention by typing @ and then the name of the person\n"
   ]
  },
  {
   "cell_type": "code",
   "execution_count": null,
   "id": "adequate-calibration",
   "metadata": {},
   "outputs": [],
   "source": []
  }
 ],
 "metadata": {
  "kernelspec": {
   "display_name": "Python 3",
   "language": "python",
   "name": "python3"
  },
  "language_info": {
   "codemirror_mode": {
    "name": "ipython",
    "version": 3
   },
   "file_extension": ".py",
   "mimetype": "text/x-python",
   "name": "python",
   "nbconvert_exporter": "python",
   "pygments_lexer": "ipython3",
   "version": "3.9.1"
  }
 },
 "nbformat": 4,
 "nbformat_minor": 5
}
